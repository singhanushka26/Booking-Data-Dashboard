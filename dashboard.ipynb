{
 "cells": [
  {
   "cell_type": "code",
   "execution_count": 32,
   "id": "9cbf1eff-4cb3-44fc-bb63-c2e26581fd13",
   "metadata": {},
   "outputs": [
    {
     "name": "stderr",
     "output_type": "stream",
     "text": [
      "[NbConvertApp] Converting notebook dashboard.ipynb to script\n",
      "[NbConvertApp] Writing 4856 bytes to dashboard.py\n"
     ]
    }
   ],
   "source": [
    "!jupyter nbconvert --to script dashboard.ipynb"
   ]
  },
  {
   "cell_type": "code",
   "execution_count": 2,
   "id": "ec94f05c-aa49-415f-b8a6-9ea3e0309ce6",
   "metadata": {},
   "outputs": [],
   "source": [
    "import os\n",
    "os.environ[\"STREAMLIT_SERVER_HEADLESS\"] = \"true\""
   ]
  },
  {
   "cell_type": "code",
   "execution_count": 3,
   "id": "a376c00c-3436-4306-9a3a-b2fafb7ec68a",
   "metadata": {},
   "outputs": [],
   "source": [
    "import streamlit as st\n",
    "import pandas as pd\n",
    "import plotly.express as px"
   ]
  },
  {
   "cell_type": "code",
   "execution_count": 4,
   "id": "04eec6f4-e14c-4ffe-a44b-4f5109471a30",
   "metadata": {},
   "outputs": [
    {
     "name": "stderr",
     "output_type": "stream",
     "text": [
      "2025-03-27 19:31:41.845 WARNING streamlit.runtime.scriptrunner_utils.script_run_context: Thread 'MainThread': missing ScriptRunContext! This warning can be ignored when running in bare mode.\n",
      "2025-03-27 19:31:41.845 WARNING streamlit.runtime.scriptrunner_utils.script_run_context: Thread 'MainThread': missing ScriptRunContext! This warning can be ignored when running in bare mode.\n",
      "2025-03-27 19:31:42.776 \n",
      "  \u001b[33m\u001b[1mWarning:\u001b[0m to view this Streamlit app on a browser, run it with the following\n",
      "  command:\n",
      "\n",
      "    streamlit run C:\\Users\\aasth\\AppData\\Local\\Programs\\Python\\Python310\\lib\\site-packages\\ipykernel_launcher.py [ARGUMENTS]\n",
      "2025-03-27 19:31:42.776 Thread 'MainThread': missing ScriptRunContext! This warning can be ignored when running in bare mode.\n"
     ]
    },
    {
     "data": {
      "text/plain": [
       "DeltaGenerator()"
      ]
     },
     "execution_count": 4,
     "metadata": {},
     "output_type": "execute_result"
    }
   ],
   "source": [
    "# Streamlit Dashboard Setup\n",
    "st.set_page_config(page_title=\"Booking Data Dashboard\", layout=\"wide\")\n",
    "st.title(\"📊 Booking Data Dashboard\")"
   ]
  },
  {
   "cell_type": "code",
   "execution_count": 5,
   "id": "2313e3be-deb3-41cb-aa39-2c19fa7513c1",
   "metadata": {},
   "outputs": [],
   "source": [
    "# Load Cleaned Data\n",
    "df = pd.read_csv(\"Cleaned_Booking_Data.csv\")"
   ]
  },
  {
   "cell_type": "code",
   "execution_count": 6,
   "id": "4a066cd9-6079-495d-a6d0-276e708b6803",
   "metadata": {},
   "outputs": [
    {
     "name": "stdout",
     "output_type": "stream",
     "text": [
      "Booking ID          object\n",
      "Customer ID         object\n",
      "Customer Name       object\n",
      "Booking Type        object\n",
      "Booking Date        object\n",
      "Status              object\n",
      "Class Type          object\n",
      "Time Slot           object\n",
      "Duration (mins)    float64\n",
      "Price              float64\n",
      "Facility            object\n",
      "Service Name        object\n",
      "Service Type        object\n",
      "Customer Email      object\n",
      "Customer Phone      object\n",
      "Hour                 int64\n",
      "dtype: object\n"
     ]
    }
   ],
   "source": [
    "print(df.dtypes)"
   ]
  },
  {
   "cell_type": "code",
   "execution_count": 7,
   "id": "29e953b7-e6fe-4fbf-8b6d-cf99c856e81b",
   "metadata": {},
   "outputs": [
    {
     "name": "stdout",
     "output_type": "stream",
     "text": [
      "                               Booking ID  \\\n",
      "0    279d92c6-ce26-47c0-8915-e45b77fe20e2   \n",
      "1    2100024b-46fc-47b5-ac1c-047d007a4723   \n",
      "4    6fe4a4d1-8533-4981-acd5-860b9c381639   \n",
      "9    e8e2f341-6a4f-43b5-aee5-0b35878474cd   \n",
      "11   1321e371-eafa-448a-82cf-e5ba33490663   \n",
      "..                                    ...   \n",
      "785  b01fa52c-b063-432e-a0fa-f457f0560624   \n",
      "790  73d48a88-6115-4fed-9b4e-a42a9d392713   \n",
      "791  8ae357a5-5860-4a35-bd7a-8fc56e67f163   \n",
      "793  09fb0473-56cc-4624-9c5a-e9cd152acc41   \n",
      "794  552b1c51-61e3-4005-a57c-ff953a2c87b7   \n",
      "\n",
      "                              Customer ID  Customer Name    Booking Type  \\\n",
      "0    00901ce3-3d86-4c97-bca2-40ccac2fb99f     Customer 1        Facility   \n",
      "1    6bbb6e83-9577-4f64-80b0-f073132d18f3     Customer 3  Birthday Party   \n",
      "4    7d3d0421-66b7-434a-9357-ea2d222deab4     Customer 6  Birthday Party   \n",
      "9    489a4949-b903-4f4f-8bdb-17a0a7553d35    Customer 16           Class   \n",
      "11   0854bc74-b7ff-4fcb-ba32-3ffbf26f19f1    Customer 21  Birthday Party   \n",
      "..                                    ...            ...             ...   \n",
      "785  97cff51e-977f-4853-add9-5170396825c5   Customer 986           Class   \n",
      "790  b694aefb-8cbf-47fe-8d5b-aa71ce08fb59   Customer 994           Class   \n",
      "791  c190430a-ebf4-4951-8899-4faa1170de75   Customer 995           Class   \n",
      "793  e483e86a-cc2c-4a49-86ef-b7a0c1b6fd7b   Customer 999        Facility   \n",
      "794  d8dd6a12-b1a6-4aa9-8b6b-40059cf5ac45  Customer 1000        Facility   \n",
      "\n",
      "    Booking Date     Status  Class Type            Time Slot  Duration (mins)  \\\n",
      "0     2025-05-30    Pending     Unknown  2025-03-27 10:00:00             90.0   \n",
      "1     2025-05-09  Confirmed     Unknown  2025-03-27 11:00:00            120.0   \n",
      "4     2025-05-10  Confirmed     Unknown  2025-03-27 11:00:00             45.0   \n",
      "9     2025-05-10  Confirmed         Art  2025-03-27 10:00:00             90.0   \n",
      "11    2025-05-13  Confirmed     Unknown  2025-03-27 11:00:00             90.0   \n",
      "..           ...        ...         ...                  ...              ...   \n",
      "785   2025-05-15  Confirmed  Gymnastics  2025-03-27 16:00:00            120.0   \n",
      "790   2025-05-25    Pending         Art  2025-03-27 13:00:00             90.0   \n",
      "791   2025-05-17    Pending  Gymnastics  2025-03-27 16:00:00             45.0   \n",
      "793   2025-05-11    Pending     Unknown  2025-03-27 12:00:00            120.0   \n",
      "794   2025-05-05  Confirmed     Unknown  2025-03-27 16:00:00            120.0   \n",
      "\n",
      "      Price      Facility Service Name    Service Type  \\\n",
      "0     42.74    Party Room   Party Room        Facility   \n",
      "1    207.50     Play Area    Play Area        Facility   \n",
      "4    278.07    Party Room   Party Room        Facility   \n",
      "9     30.53  Not Assigned          Art           Class   \n",
      "11   150.79     Play Area    Play Area  Birthday Party   \n",
      "..      ...           ...          ...             ...   \n",
      "785   63.87  Not Assigned   Gymnastics           Class   \n",
      "790    0.00  Not Assigned          Art           Class   \n",
      "791  141.70  Not Assigned   Gymnastics           Class   \n",
      "793  275.18    Party Room   Party Room        Facility   \n",
      "794  130.08     Play Area    Play Area        Facility   \n",
      "\n",
      "               Customer Email Customer Phone  Hour Month  \n",
      "0       customer1@example.com   001-730-9034    10   May  \n",
      "1       customer3@example.com   001-880-7769    11   May  \n",
      "4       customer6@example.com   001-251-7580    11   May  \n",
      "9      customer16@example.com   001-705-1308    10   May  \n",
      "11     customer21@example.com   001-763-2184    11   May  \n",
      "..                        ...            ...   ...   ...  \n",
      "785   customer986@example.com   001-836-2200    16   May  \n",
      "790   customer994@example.com   001-554-3840    13   May  \n",
      "791   customer995@example.com   001-723-6984    16   May  \n",
      "793   customer999@example.com   001-668-6307    12   May  \n",
      "794  customer1000@example.com   001-226-7265    16   May  \n",
      "\n",
      "[264 rows x 17 columns]\n"
     ]
    }
   ],
   "source": [
    "df[\"Booking Date\"] = pd.to_datetime(df[\"Booking Date\"], errors='coerce')  # Convert to datetime\n",
    "df[\"Month\"] = df[\"Booking Date\"].dt.strftime(\"%B\")  # Extract full month name\n",
    "\n",
    "selected_month = \"May\"  # Replace with your input\n",
    "filtered_df = df[df[\"Month\"] == selected_month]\n",
    "print(filtered_df)"
   ]
  },
  {
   "cell_type": "code",
   "execution_count": 8,
   "id": "7314a3ee-8507-4758-a4b6-c67f6e136d62",
   "metadata": {},
   "outputs": [
    {
     "name": "stderr",
     "output_type": "stream",
     "text": [
      "2025-03-27 19:31:49.135 Thread 'MainThread': missing ScriptRunContext! This warning can be ignored when running in bare mode.\n",
      "2025-03-27 19:31:49.135 Thread 'MainThread': missing ScriptRunContext! This warning can be ignored when running in bare mode.\n",
      "2025-03-27 19:31:49.143 Thread 'MainThread': missing ScriptRunContext! This warning can be ignored when running in bare mode.\n",
      "2025-03-27 19:31:49.143 Thread 'MainThread': missing ScriptRunContext! This warning can be ignored when running in bare mode.\n",
      "2025-03-27 19:31:49.202 Thread 'MainThread': missing ScriptRunContext! This warning can be ignored when running in bare mode.\n",
      "2025-03-27 19:31:49.202 Thread 'MainThread': missing ScriptRunContext! This warning can be ignored when running in bare mode.\n"
     ]
    },
    {
     "data": {
      "text/plain": [
       "DeltaGenerator()"
      ]
     },
     "execution_count": 8,
     "metadata": {},
     "output_type": "execute_result"
    }
   ],
   "source": [
    "# Display first few rows\n",
    "st.write(\"### Raw Data Preview\")\n",
    "st.dataframe(df.head())"
   ]
  },
  {
   "cell_type": "code",
   "execution_count": 9,
   "id": "33e8f378-a808-4aec-84af-e4cb1b96c202",
   "metadata": {},
   "outputs": [
    {
     "name": "stderr",
     "output_type": "stream",
     "text": [
      "2025-03-27 19:31:49.948 Thread 'MainThread': missing ScriptRunContext! This warning can be ignored when running in bare mode.\n",
      "2025-03-27 19:31:49.951 Thread 'MainThread': missing ScriptRunContext! This warning can be ignored when running in bare mode.\n",
      "2025-03-27 19:31:49.953 Thread 'MainThread': missing ScriptRunContext! This warning can be ignored when running in bare mode.\n",
      "2025-03-27 19:31:49.953 Thread 'MainThread': missing ScriptRunContext! This warning can be ignored when running in bare mode.\n",
      "2025-03-27 19:31:49.961 Thread 'MainThread': missing ScriptRunContext! This warning can be ignored when running in bare mode.\n",
      "2025-03-27 19:31:49.969 Thread 'MainThread': missing ScriptRunContext! This warning can be ignored when running in bare mode.\n"
     ]
    }
   ],
   "source": [
    "st.write(\"### Missing Values Summary\")\n",
    "st.write(df.isnull().sum())"
   ]
  },
  {
   "cell_type": "code",
   "execution_count": 10,
   "id": "42b8d553-a4e9-4165-95e2-6d3feb72b877",
   "metadata": {},
   "outputs": [],
   "source": [
    "df.fillna(0, inplace=True)  # Replace NaNs with 0"
   ]
  },
  {
   "cell_type": "code",
   "execution_count": null,
   "id": "c8588e7f-dd09-47df-b776-fa938710c8fc",
   "metadata": {},
   "outputs": [],
   "source": []
  },
  {
   "cell_type": "code",
   "execution_count": null,
   "id": "2e0da97f-5b63-4134-8e0a-3e744cc9c757",
   "metadata": {},
   "outputs": [],
   "source": []
  },
  {
   "cell_type": "code",
   "execution_count": 11,
   "id": "00ca6ec7-c762-4f4d-9a2d-5bfeefe87f67",
   "metadata": {},
   "outputs": [
    {
     "name": "stderr",
     "output_type": "stream",
     "text": [
      "2025-03-27 19:31:52.622 Thread 'MainThread': missing ScriptRunContext! This warning can be ignored when running in bare mode.\n",
      "2025-03-27 19:31:52.634 Thread 'MainThread': missing ScriptRunContext! This warning can be ignored when running in bare mode.\n",
      "2025-03-27 19:31:54.101 Thread 'MainThread': missing ScriptRunContext! This warning can be ignored when running in bare mode.\n",
      "2025-03-27 19:31:54.101 Thread 'MainThread': missing ScriptRunContext! This warning can be ignored when running in bare mode.\n",
      "2025-03-27 19:31:54.101 Thread 'MainThread': missing ScriptRunContext! This warning can be ignored when running in bare mode.\n",
      "2025-03-27 19:31:54.114 Thread 'MainThread': missing ScriptRunContext! This warning can be ignored when running in bare mode.\n"
     ]
    },
    {
     "data": {
      "text/plain": [
       "DeltaGenerator()"
      ]
     },
     "execution_count": 11,
     "metadata": {},
     "output_type": "execute_result"
    }
   ],
   "source": [
    "# Booking Trends Over Time\n",
    "st.subheader(\"📅 Booking Trends Over Time\")\n",
    "booking_trends = df.resample('W', on='Booking Date').size().reset_index(name='Booking Count')\n",
    "fig1 = px.line(booking_trends, x='Booking Date', y='Booking Count', title='Bookings Over Time')\n",
    "st.plotly_chart(fig1, use_container_width=True)"
   ]
  },
  {
   "cell_type": "code",
   "execution_count": 12,
   "id": "dfbd1bb3-d51a-45fa-a4cc-47f8cae84795",
   "metadata": {},
   "outputs": [
    {
     "name": "stderr",
     "output_type": "stream",
     "text": [
      "2025-03-27 19:31:54.162 Thread 'MainThread': missing ScriptRunContext! This warning can be ignored when running in bare mode.\n",
      "2025-03-27 19:31:54.164 Thread 'MainThread': missing ScriptRunContext! This warning can be ignored when running in bare mode.\n"
     ]
    },
    {
     "ename": "NameError",
     "evalue": "name 'df_monthly' is not defined",
     "output_type": "error",
     "traceback": [
      "\u001b[1;31m---------------------------------------------------------------------------\u001b[0m",
      "\u001b[1;31mNameError\u001b[0m                                 Traceback (most recent call last)",
      "Cell \u001b[1;32mIn[12], line 6\u001b[0m\n\u001b[0;32m      2\u001b[0m st\u001b[38;5;241m.\u001b[39msubheader(\u001b[38;5;124m\"\u001b[39m\u001b[38;5;124mBooking Type Distribution\u001b[39m\u001b[38;5;124m\"\u001b[39m)\n\u001b[0;32m      4\u001b[0m df[\u001b[38;5;124m\"\u001b[39m\u001b[38;5;124mBooking Date\u001b[39m\u001b[38;5;124m\"\u001b[39m] \u001b[38;5;241m=\u001b[39m df[\u001b[38;5;124m\"\u001b[39m\u001b[38;5;124mBooking Date\u001b[39m\u001b[38;5;124m\"\u001b[39m]\u001b[38;5;241m.\u001b[39mastype(\u001b[38;5;28mstr\u001b[39m)  \u001b[38;5;66;03m# Convert column to string\u001b[39;00m\n\u001b[1;32m----> 6\u001b[0m selected_month \u001b[38;5;241m=\u001b[39m st\u001b[38;5;241m.\u001b[39mselectbox(\u001b[38;5;124m\"\u001b[39m\u001b[38;5;124mSelect a Month:\u001b[39m\u001b[38;5;124m\"\u001b[39m, \u001b[43mdf_monthly\u001b[49m[\u001b[38;5;124m\"\u001b[39m\u001b[38;5;124mmonth\u001b[39m\u001b[38;5;124m\"\u001b[39m]\u001b[38;5;241m.\u001b[39munique())\n\u001b[0;32m      8\u001b[0m filtered_df \u001b[38;5;241m=\u001b[39m df[df[\u001b[38;5;124m\"\u001b[39m\u001b[38;5;124mBooking Date\u001b[39m\u001b[38;5;124m\"\u001b[39m]\u001b[38;5;241m.\u001b[39mstr\u001b[38;5;241m.\u001b[39mcontains(selected_month, na\u001b[38;5;241m=\u001b[39m\u001b[38;5;28;01mFalse\u001b[39;00m)]\n\u001b[0;32m      9\u001b[0m st\u001b[38;5;241m.\u001b[39mwrite(filtered_df)\n",
      "\u001b[1;31mNameError\u001b[0m: name 'df_monthly' is not defined"
     ]
    }
   ],
   "source": [
    "# Booking Type Distribution\n",
    "st.subheader(\"Booking Type Distribution\")\n",
    "\n",
    "df[\"Booking Date\"] = df[\"Booking Date\"].astype(str)  # Convert column to string\n",
    "\n",
    "selected_month = st.selectbox(\"Select a Month:\", df_monthly[\"month\"].unique())\n",
    "\n",
    "filtered_df = df[df[\"Booking Date\"].str.contains(selected_month, na=False)]\n",
    "st.write(filtered_df)"
   ]
  },
  {
   "cell_type": "code",
   "execution_count": 13,
   "id": "d598f167-61ad-4a7a-ad86-cfa5b34e531e",
   "metadata": {},
   "outputs": [
    {
     "name": "stderr",
     "output_type": "stream",
     "text": [
      "2025-03-27 19:31:54.680 Thread 'MainThread': missing ScriptRunContext! This warning can be ignored when running in bare mode.\n",
      "2025-03-27 19:31:54.688 Thread 'MainThread': missing ScriptRunContext! This warning can be ignored when running in bare mode.\n",
      "2025-03-27 19:31:54.688 Thread 'MainThread': missing ScriptRunContext! This warning can be ignored when running in bare mode.\n",
      "2025-03-27 19:31:54.697 Thread 'MainThread': missing ScriptRunContext! This warning can be ignored when running in bare mode.\n"
     ]
    },
    {
     "data": {
      "text/plain": [
       "DeltaGenerator()"
      ]
     },
     "execution_count": 13,
     "metadata": {},
     "output_type": "execute_result"
    }
   ],
   "source": [
    "# Revenue Analysis\n",
    "st.subheader(\"💰 Revenue Insights\")\n",
    "total_revenue = df['Price'].sum()\n",
    "st.metric(\"Total Revenue\", f\"${total_revenue:,.2f}\")"
   ]
  },
  {
   "cell_type": "code",
   "execution_count": 14,
   "id": "b5bd3f60-49d2-416a-8d30-1e8eeafeb172",
   "metadata": {},
   "outputs": [
    {
     "name": "stderr",
     "output_type": "stream",
     "text": [
      "2025-03-27 19:31:55.598 Thread 'MainThread': missing ScriptRunContext! This warning can be ignored when running in bare mode.\n",
      "2025-03-27 19:31:55.604 Thread 'MainThread': missing ScriptRunContext! This warning can be ignored when running in bare mode.\n",
      "2025-03-27 19:31:55.630 Thread 'MainThread': missing ScriptRunContext! This warning can be ignored when running in bare mode.\n",
      "2025-03-27 19:31:55.630 Thread 'MainThread': missing ScriptRunContext! This warning can be ignored when running in bare mode.\n"
     ]
    },
    {
     "data": {
      "text/plain": [
       "DeltaGenerator()"
      ]
     },
     "execution_count": 14,
     "metadata": {},
     "output_type": "execute_result"
    }
   ],
   "source": [
    "# Top 10 Customers by Spending\n",
    "st.subheader(\"🏅 Top 10 Customers by Spending\")\n",
    "top_customers = df.groupby(\"Customer ID\")['Price'].sum().reset_index().nlargest(10, 'Price')\n",
    "st.dataframe(top_customers)"
   ]
  },
  {
   "cell_type": "code",
   "execution_count": 15,
   "id": "29f5c49b-34a0-42ae-b478-a94f38da2df6",
   "metadata": {},
   "outputs": [
    {
     "name": "stderr",
     "output_type": "stream",
     "text": [
      "2025-03-27 19:31:56.282 Thread 'MainThread': missing ScriptRunContext! This warning can be ignored when running in bare mode.\n",
      "2025-03-27 19:31:56.290 Thread 'MainThread': missing ScriptRunContext! This warning can be ignored when running in bare mode.\n",
      "2025-03-27 19:31:56.524 Thread 'MainThread': missing ScriptRunContext! This warning can be ignored when running in bare mode.\n",
      "2025-03-27 19:31:56.524 Thread 'MainThread': missing ScriptRunContext! This warning can be ignored when running in bare mode.\n",
      "2025-03-27 19:31:56.528 Thread 'MainThread': missing ScriptRunContext! This warning can be ignored when running in bare mode.\n",
      "2025-03-27 19:31:56.528 Thread 'MainThread': missing ScriptRunContext! This warning can be ignored when running in bare mode.\n"
     ]
    },
    {
     "data": {
      "text/plain": [
       "DeltaGenerator()"
      ]
     },
     "execution_count": 15,
     "metadata": {},
     "output_type": "execute_result"
    }
   ],
   "source": [
    "# Facility Utilization\n",
    "st.subheader(\"🏢 Facility Utilization\")\n",
    "\n",
    "df_facility = df['Facility'].value_counts().reset_index()\n",
    "df_facility.columns = ['Facility', 'Count']  # Rename columns correctly\n",
    "\n",
    "fig3 = px.bar(df_facility,\n",
    "              x='Facility', y='Count',  # Use correct column names\n",
    "              labels={'Facility': 'Facility', 'Count': 'Bookings'},\n",
    "              title=\"Most Used Facilities\")\n",
    "st.plotly_chart(fig3, use_container_width=True)"
   ]
  },
  {
   "cell_type": "code",
   "execution_count": 16,
   "id": "f9e08505-a343-47d0-a92f-3fa845767ed7",
   "metadata": {},
   "outputs": [
    {
     "name": "stderr",
     "output_type": "stream",
     "text": [
      "2025-03-27 19:31:57.044 Thread 'MainThread': missing ScriptRunContext! This warning can be ignored when running in bare mode.\n",
      "2025-03-27 19:31:57.051 Thread 'MainThread': missing ScriptRunContext! This warning can be ignored when running in bare mode.\n",
      "2025-03-27 19:31:57.053 Thread 'MainThread': missing ScriptRunContext! This warning can be ignored when running in bare mode.\n",
      "2025-03-27 19:31:57.053 Thread 'MainThread': missing ScriptRunContext! This warning can be ignored when running in bare mode.\n",
      "2025-03-27 19:31:57.064 Thread 'MainThread': missing ScriptRunContext! This warning can be ignored when running in bare mode.\n",
      "2025-03-27 19:31:57.069 Thread 'MainThread': missing ScriptRunContext! This warning can be ignored when running in bare mode.\n",
      "2025-03-27 19:31:57.069 Thread 'MainThread': missing ScriptRunContext! This warning can be ignored when running in bare mode.\n",
      "2025-03-27 19:31:57.078 Thread 'MainThread': missing ScriptRunContext! This warning can be ignored when running in bare mode.\n",
      "2025-03-27 19:31:57.078 Thread 'MainThread': missing ScriptRunContext! This warning can be ignored when running in bare mode.\n",
      "2025-03-27 19:31:57.085 Thread 'MainThread': missing ScriptRunContext! This warning can be ignored when running in bare mode.\n",
      "2025-03-27 19:31:57.085 Thread 'MainThread': missing ScriptRunContext! This warning can be ignored when running in bare mode.\n",
      "2025-03-27 19:31:57.102 Thread 'MainThread': missing ScriptRunContext! This warning can be ignored when running in bare mode.\n",
      "2025-03-27 19:31:57.105 Thread 'MainThread': missing ScriptRunContext! This warning can be ignored when running in bare mode.\n"
     ]
    },
    {
     "data": {
      "text/plain": [
       "DeltaGenerator()"
      ]
     },
     "execution_count": 16,
     "metadata": {},
     "output_type": "execute_result"
    }
   ],
   "source": [
    "# Filter for Advanced Analysis\n",
    "st.sidebar.header(\"🔍 Filter Data\")\n",
    "selected_type = st.sidebar.multiselect(\"Select Booking Type\", df['Booking Type'].unique(), default=df['Booking Type'].unique())\n",
    "filtered_df = df[df['Booking Type'].isin(selected_type)]\n",
    "\n",
    "st.write(\"### Filtered Data Preview\")\n",
    "st.dataframe(filtered_df)"
   ]
  },
  {
   "cell_type": "code",
   "execution_count": null,
   "id": "1fac2328-4ff7-42a6-aded-a23c7bcd0777",
   "metadata": {},
   "outputs": [],
   "source": []
  },
  {
   "cell_type": "code",
   "execution_count": null,
   "id": "d83497df-232f-4c48-b99a-f4c8e2719cf4",
   "metadata": {},
   "outputs": [],
   "source": []
  },
  {
   "cell_type": "code",
   "execution_count": 17,
   "id": "f59ad314-bf1a-46b3-9662-baab34e09dc0",
   "metadata": {},
   "outputs": [],
   "source": [
    "import plotly.express as px"
   ]
  },
  {
   "cell_type": "code",
   "execution_count": 18,
   "id": "93959e7b-6be8-4c90-958b-325328cf653f",
   "metadata": {},
   "outputs": [],
   "source": [
    "# Ensure 'Booking Date' is in datetime format\n",
    "df[\"Booking Date\"] = pd.to_datetime(df[\"Booking Date\"])"
   ]
  },
  {
   "cell_type": "code",
   "execution_count": 19,
   "id": "11a9502d-3f05-4d35-a185-c58565dea632",
   "metadata": {},
   "outputs": [],
   "source": [
    "# Extract the month name\n",
    "df[\"month\"] = df[\"Booking Date\"].dt.strftime(\"%B\")"
   ]
  },
  {
   "cell_type": "code",
   "execution_count": 20,
   "id": "87d585fd-bf3e-4143-8fe3-15933efc4c95",
   "metadata": {},
   "outputs": [],
   "source": [
    "# Aggregate bookings per month\n",
    "df_monthly = df.groupby(\"month\").size().reset_index(name=\"bookings\")"
   ]
  },
  {
   "cell_type": "code",
   "execution_count": 21,
   "id": "b25351ba-4eb8-4148-9240-ee18e9ca1c74",
   "metadata": {},
   "outputs": [
    {
     "name": "stdout",
     "output_type": "stream",
     "text": [
      "   month  bookings\n",
      "0  April       266\n",
      "1   June       202\n",
      "2  March        63\n",
      "3    May       264\n"
     ]
    }
   ],
   "source": [
    "# Print to verify\n",
    "print(df_monthly.head())"
   ]
  },
  {
   "cell_type": "code",
   "execution_count": 22,
   "id": "1f531185-8449-4ad9-9fbd-7952dba15d31",
   "metadata": {},
   "outputs": [],
   "source": [
    "# Plot using Plotly\n",
    "fig = px.bar(df_monthly, x=\"month\", y=\"bookings\", title=\"Bookings Per Month\")"
   ]
  },
  {
   "cell_type": "code",
   "execution_count": 23,
   "id": "9e3f16f0-9c92-4bf5-9cde-5a4ddcc2ca51",
   "metadata": {},
   "outputs": [
    {
     "name": "stderr",
     "output_type": "stream",
     "text": [
      "2025-03-27 19:32:02.459 Thread 'MainThread': missing ScriptRunContext! This warning can be ignored when running in bare mode.\n",
      "2025-03-27 19:32:02.467 Thread 'MainThread': missing ScriptRunContext! This warning can be ignored when running in bare mode.\n",
      "2025-03-27 19:32:02.467 Thread 'MainThread': missing ScriptRunContext! This warning can be ignored when running in bare mode.\n",
      "2025-03-27 19:32:02.475 Thread 'MainThread': missing ScriptRunContext! This warning can be ignored when running in bare mode.\n"
     ]
    },
    {
     "data": {
      "text/plain": [
       "DeltaGenerator()"
      ]
     },
     "execution_count": 23,
     "metadata": {},
     "output_type": "execute_result"
    }
   ],
   "source": [
    "# Display in Streamlit\n",
    "st.plotly_chart(fig)"
   ]
  },
  {
   "cell_type": "code",
   "execution_count": 24,
   "id": "b8cb3a70-55c7-496d-a6a4-5989c0178efe",
   "metadata": {},
   "outputs": [
    {
     "name": "stdout",
     "output_type": "stream",
     "text": [
      "   month  bookings\n",
      "0  April       266\n",
      "1   June       202\n",
      "2  March        63\n",
      "3    May       264\n"
     ]
    }
   ],
   "source": [
    "print(df_monthly.head())  "
   ]
  },
  {
   "cell_type": "code",
   "execution_count": 25,
   "id": "2ced1208-90b4-4674-8088-dffa1b3a3144",
   "metadata": {},
   "outputs": [
    {
     "name": "stderr",
     "output_type": "stream",
     "text": [
      "2025-03-27 19:32:04.388 Thread 'MainThread': missing ScriptRunContext! This warning can be ignored when running in bare mode.\n",
      "2025-03-27 19:32:04.411 Thread 'MainThread': missing ScriptRunContext! This warning can be ignored when running in bare mode.\n",
      "2025-03-27 19:32:04.422 Thread 'MainThread': missing ScriptRunContext! This warning can be ignored when running in bare mode.\n",
      "2025-03-27 19:32:04.427 Thread 'MainThread': missing ScriptRunContext! This warning can be ignored when running in bare mode.\n"
     ]
    },
    {
     "data": {
      "text/plain": [
       "DeltaGenerator()"
      ]
     },
     "execution_count": 25,
     "metadata": {},
     "output_type": "execute_result"
    }
   ],
   "source": [
    "fig = px.bar(df_monthly, x=\"month\", y=\"bookings\", title=\"Bookings Per Month\")\n",
    "st.plotly_chart(fig)"
   ]
  },
  {
   "cell_type": "code",
   "execution_count": 26,
   "id": "e8697f9b-0f4e-42f4-bbd5-b2828fa0abf9",
   "metadata": {},
   "outputs": [
    {
     "name": "stderr",
     "output_type": "stream",
     "text": [
      "2025-03-27 19:32:04.928 Thread 'MainThread': missing ScriptRunContext! This warning can be ignored when running in bare mode.\n",
      "2025-03-27 19:32:04.928 Thread 'MainThread': missing ScriptRunContext! This warning can be ignored when running in bare mode.\n",
      "2025-03-27 19:32:04.928 Thread 'MainThread': missing ScriptRunContext! This warning can be ignored when running in bare mode.\n",
      "2025-03-27 19:32:04.936 Thread 'MainThread': missing ScriptRunContext! This warning can be ignored when running in bare mode.\n"
     ]
    },
    {
     "data": {
      "text/plain": [
       "DeltaGenerator()"
      ]
     },
     "execution_count": 26,
     "metadata": {},
     "output_type": "execute_result"
    }
   ],
   "source": [
    "fig = px.pie(df, names=\"Booking Type\", title=\"Distribution of Booking Types\")\n",
    "st.plotly_chart(fig)"
   ]
  },
  {
   "cell_type": "code",
   "execution_count": 27,
   "id": "0b8e531e-906b-464a-80bf-4959ae6a76f5",
   "metadata": {},
   "outputs": [
    {
     "name": "stderr",
     "output_type": "stream",
     "text": [
      "2025-03-27 19:32:05.439 Thread 'MainThread': missing ScriptRunContext! This warning can be ignored when running in bare mode.\n",
      "2025-03-27 19:32:05.447 Thread 'MainThread': missing ScriptRunContext! This warning can be ignored when running in bare mode.\n",
      "2025-03-27 19:32:05.455 Thread 'MainThread': missing ScriptRunContext! This warning can be ignored when running in bare mode.\n",
      "2025-03-27 19:32:05.463 Thread 'MainThread': missing ScriptRunContext! This warning can be ignored when running in bare mode.\n",
      "2025-03-27 19:32:05.463 Session state does not function when running a script without `streamlit run`\n",
      "2025-03-27 19:32:05.463 Thread 'MainThread': missing ScriptRunContext! This warning can be ignored when running in bare mode.\n",
      "2025-03-27 19:32:05.471 Thread 'MainThread': missing ScriptRunContext! This warning can be ignored when running in bare mode.\n",
      "2025-03-27 19:32:05.479 Thread 'MainThread': missing ScriptRunContext! This warning can be ignored when running in bare mode.\n",
      "2025-03-27 19:32:05.487 Thread 'MainThread': missing ScriptRunContext! This warning can be ignored when running in bare mode.\n"
     ]
    }
   ],
   "source": [
    "selected_month = st.selectbox(\"Select a Month:\", df[\"month\"].unique())\n",
    "\n",
    "# Filter using the 'month' column instead of 'Booking Date'\n",
    "filtered_df = df[df[\"month\"] == selected_month]\n",
    "\n",
    "st.write(filtered_df)"
   ]
  },
  {
   "cell_type": "code",
   "execution_count": 28,
   "id": "24c41ffd-c786-41d6-a76d-27998fea490b",
   "metadata": {},
   "outputs": [
    {
     "name": "stderr",
     "output_type": "stream",
     "text": [
      "2025-03-27 19:32:06.136 Thread 'MainThread': missing ScriptRunContext! This warning can be ignored when running in bare mode.\n",
      "2025-03-27 19:32:06.136 Thread 'MainThread': missing ScriptRunContext! This warning can be ignored when running in bare mode.\n",
      "2025-03-27 19:32:06.142 Thread 'MainThread': missing ScriptRunContext! This warning can be ignored when running in bare mode.\n",
      "2025-03-27 19:32:06.142 Thread 'MainThread': missing ScriptRunContext! This warning can be ignored when running in bare mode.\n",
      "2025-03-27 19:32:06.150 Thread 'MainThread': missing ScriptRunContext! This warning can be ignored when running in bare mode.\n",
      "2025-03-27 19:32:06.153 Thread 'MainThread': missing ScriptRunContext! This warning can be ignored when running in bare mode.\n",
      "2025-03-27 19:32:06.153 Thread 'MainThread': missing ScriptRunContext! This warning can be ignored when running in bare mode.\n",
      "2025-03-27 19:32:06.158 Thread 'MainThread': missing ScriptRunContext! This warning can be ignored when running in bare mode.\n",
      "2025-03-27 19:32:06.174 Thread 'MainThread': missing ScriptRunContext! This warning can be ignored when running in bare mode.\n",
      "2025-03-27 19:32:06.174 Thread 'MainThread': missing ScriptRunContext! This warning can be ignored when running in bare mode.\n"
     ]
    }
   ],
   "source": [
    "st.sidebar.header(\"Filters\")\n",
    "selected_status = st.sidebar.selectbox(\"Select Booking Status:\", df[\"Status\"].unique())\n",
    "filtered_df = df[df[\"Status\"] == selected_status]\n",
    "st.write(filtered_df)"
   ]
  },
  {
   "cell_type": "code",
   "execution_count": 29,
   "id": "8e6022ca-a679-4e22-96f9-2e19ee5d43f4",
   "metadata": {},
   "outputs": [
    {
     "name": "stdout",
     "output_type": "stream",
     "text": [
      "['Booking ID', 'Customer ID', 'Customer Name', 'Booking Type', 'Booking Date', 'Status', 'Class Type', 'Time Slot', 'Duration (mins)', 'Price', 'Facility', 'Service Name', 'Service Type', 'Customer Email', 'Customer Phone', 'Hour', 'Month', 'month']\n"
     ]
    }
   ],
   "source": [
    "print(df.columns.tolist())"
   ]
  },
  {
   "cell_type": "code",
   "execution_count": 30,
   "id": "0881a105-6af4-415a-8d23-8dce871be5a5",
   "metadata": {},
   "outputs": [
    {
     "name": "stderr",
     "output_type": "stream",
     "text": [
      "2025-03-27 19:32:07.510 Thread 'MainThread': missing ScriptRunContext! This warning can be ignored when running in bare mode.\n",
      "2025-03-27 19:32:07.518 Thread 'MainThread': missing ScriptRunContext! This warning can be ignored when running in bare mode.\n",
      "2025-03-27 19:32:07.518 Thread 'MainThread': missing ScriptRunContext! This warning can be ignored when running in bare mode.\n",
      "2025-03-27 19:32:07.526 Thread 'MainThread': missing ScriptRunContext! This warning can be ignored when running in bare mode.\n"
     ]
    },
    {
     "data": {
      "text/plain": [
       "DeltaGenerator()"
      ]
     },
     "execution_count": 30,
     "metadata": {},
     "output_type": "execute_result"
    }
   ],
   "source": [
    "fig = px.bar(df_monthly, x=\"month\", y=\"bookings\", title=\"Bookings Per Month\")\n",
    "st.plotly_chart(fig)"
   ]
  },
  {
   "cell_type": "code",
   "execution_count": 31,
   "id": "92f8ba92-a22e-44d5-8e92-a3c12775fefd",
   "metadata": {},
   "outputs": [],
   "source": [
    "month_order = pd.Categorical(df_monthly[\"month\"], \n",
    "                             categories=[\"January\", \"February\", \"March\", \"April\", \"May\", \"June\", \n",
    "                                         \"July\", \"August\", \"September\", \"October\", \"November\", \"December\"], \n",
    "                             ordered=True)\n",
    "df_monthly[\"month\"] = month_order\n",
    "df_monthly = df_monthly.sort_values(\"month\")"
   ]
  },
  {
   "cell_type": "code",
   "execution_count": null,
   "id": "93c7a3e5-aeec-40e9-af70-ac4efd5f9f27",
   "metadata": {},
   "outputs": [],
   "source": []
  },
  {
   "cell_type": "code",
   "execution_count": null,
   "id": "439c7e2d-074d-48dd-ad25-d42ce8927b09",
   "metadata": {},
   "outputs": [],
   "source": []
  },
  {
   "cell_type": "code",
   "execution_count": null,
   "id": "45c12777-9167-4a1e-9ac7-83d76312e665",
   "metadata": {},
   "outputs": [],
   "source": []
  }
 ],
 "metadata": {
  "kernelspec": {
   "display_name": "Python 3 (ipykernel)",
   "language": "python",
   "name": "python3"
  },
  "language_info": {
   "codemirror_mode": {
    "name": "ipython",
    "version": 3
   },
   "file_extension": ".py",
   "mimetype": "text/x-python",
   "name": "python",
   "nbconvert_exporter": "python",
   "pygments_lexer": "ipython3",
   "version": "3.10.1"
  }
 },
 "nbformat": 4,
 "nbformat_minor": 5
}
