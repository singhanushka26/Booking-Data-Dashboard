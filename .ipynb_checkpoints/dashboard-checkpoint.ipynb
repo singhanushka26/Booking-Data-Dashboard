{
 "cells": [
  {
   "cell_type": "code",
   "execution_count": 1,
   "id": "ec94f05c-aa49-415f-b8a6-9ea3e0309ce6",
   "metadata": {},
   "outputs": [],
   "source": [
    "import os\n",
    "os.environ[\"STREAMLIT_SERVER_HEADLESS\"] = \"true\""
   ]
  },
  {
   "cell_type": "code",
   "execution_count": 2,
   "id": "a376c00c-3436-4306-9a3a-b2fafb7ec68a",
   "metadata": {},
   "outputs": [],
   "source": [
    "import streamlit as st\n",
    "import pandas as pd\n",
    "import plotly.express as px"
   ]
  },
  {
   "cell_type": "code",
   "execution_count": 3,
   "id": "2313e3be-deb3-41cb-aa39-2c19fa7513c1",
   "metadata": {},
   "outputs": [],
   "source": [
    "# Load Cleaned Data\n",
    "df = pd.read_csv(\"Cleaned_Booking_Data.csv\")\n",
    "df['Booking Date'] = pd.to_datetime(df['Booking Date'])  # Ensure correct datetime format"
   ]
  },
  {
   "cell_type": "code",
   "execution_count": 4,
   "id": "2e0da97f-5b63-4134-8e0a-3e744cc9c757",
   "metadata": {},
   "outputs": [
    {
     "name": "stderr",
     "output_type": "stream",
     "text": [
      "2025-03-27 01:38:38.989 WARNING streamlit.runtime.scriptrunner_utils.script_run_context: Thread 'MainThread': missing ScriptRunContext! This warning can be ignored when running in bare mode.\n",
      "2025-03-27 01:38:39.000 WARNING streamlit.runtime.scriptrunner_utils.script_run_context: Thread 'MainThread': missing ScriptRunContext! This warning can be ignored when running in bare mode.\n",
      "2025-03-27 01:38:40.016 \n",
      "  \u001b[33m\u001b[1mWarning:\u001b[0m to view this Streamlit app on a browser, run it with the following\n",
      "  command:\n",
      "\n",
      "    streamlit run C:\\Users\\aasth\\AppData\\Local\\Programs\\Python\\Python310\\lib\\site-packages\\ipykernel_launcher.py [ARGUMENTS]\n",
      "2025-03-27 01:38:40.016 Thread 'MainThread': missing ScriptRunContext! This warning can be ignored when running in bare mode.\n"
     ]
    },
    {
     "data": {
      "text/plain": [
       "DeltaGenerator()"
      ]
     },
     "execution_count": 4,
     "metadata": {},
     "output_type": "execute_result"
    }
   ],
   "source": [
    "# Streamlit Dashboard Setup\n",
    "st.set_page_config(page_title=\"Booking Data Dashboard\", layout=\"wide\")\n",
    "st.title(\"📊 Booking Data Dashboard\")"
   ]
  },
  {
   "cell_type": "code",
   "execution_count": 5,
   "id": "00ca6ec7-c762-4f4d-9a2d-5bfeefe87f67",
   "metadata": {},
   "outputs": [
    {
     "name": "stderr",
     "output_type": "stream",
     "text": [
      "2025-03-27 01:38:40.090 Thread 'MainThread': missing ScriptRunContext! This warning can be ignored when running in bare mode.\n",
      "2025-03-27 01:38:40.092 Thread 'MainThread': missing ScriptRunContext! This warning can be ignored when running in bare mode.\n",
      "2025-03-27 01:38:41.067 Thread 'MainThread': missing ScriptRunContext! This warning can be ignored when running in bare mode.\n",
      "2025-03-27 01:38:41.067 Thread 'MainThread': missing ScriptRunContext! This warning can be ignored when running in bare mode.\n",
      "2025-03-27 01:38:41.067 Thread 'MainThread': missing ScriptRunContext! This warning can be ignored when running in bare mode.\n",
      "2025-03-27 01:38:41.080 Thread 'MainThread': missing ScriptRunContext! This warning can be ignored when running in bare mode.\n"
     ]
    },
    {
     "data": {
      "text/plain": [
       "DeltaGenerator()"
      ]
     },
     "execution_count": 5,
     "metadata": {},
     "output_type": "execute_result"
    }
   ],
   "source": [
    "# Booking Trends Over Time\n",
    "st.subheader(\"📅 Booking Trends Over Time\")\n",
    "booking_trends = df.resample('W', on='Booking Date').size().reset_index(name='Booking Count')\n",
    "fig1 = px.line(booking_trends, x='Booking Date', y='Booking Count', title='Bookings Over Time')\n",
    "st.plotly_chart(fig1, use_container_width=True)"
   ]
  },
  {
   "cell_type": "code",
   "execution_count": 6,
   "id": "dfbd1bb3-d51a-45fa-a4cc-47f8cae84795",
   "metadata": {},
   "outputs": [
    {
     "name": "stderr",
     "output_type": "stream",
     "text": [
      "2025-03-27 01:38:42.834 Thread 'MainThread': missing ScriptRunContext! This warning can be ignored when running in bare mode.\n",
      "2025-03-27 01:38:42.838 Thread 'MainThread': missing ScriptRunContext! This warning can be ignored when running in bare mode.\n"
     ]
    }
   ],
   "source": [
    "# Booking Type Distribution\n",
    "st.subheader(\"📌 Booking Type Distribution\")\n",
    "\n",
    "df_booking_type = df['Booking Type'].value_counts().reset_index()\n",
    "df_booking_type.columns = ['Booking Type', 'Count']  # Rename columns correctly\n",
    "\n",
    "fig2 = px.bar(df_booking_type,\n",
    "              x='Booking Type', y='Count',  # Use correct column names\n",
    "              labels={'Booking Type': 'Booking Type', 'Count': 'Count'},\n",
    "              title=\"Most Popular Booking Types\")"
   ]
  },
  {
   "cell_type": "code",
   "execution_count": 7,
   "id": "d598f167-61ad-4a7a-ad86-cfa5b34e531e",
   "metadata": {},
   "outputs": [
    {
     "name": "stderr",
     "output_type": "stream",
     "text": [
      "2025-03-27 01:38:43.723 Thread 'MainThread': missing ScriptRunContext! This warning can be ignored when running in bare mode.\n",
      "2025-03-27 01:38:43.723 Thread 'MainThread': missing ScriptRunContext! This warning can be ignored when running in bare mode.\n",
      "2025-03-27 01:38:43.734 Thread 'MainThread': missing ScriptRunContext! This warning can be ignored when running in bare mode.\n",
      "2025-03-27 01:38:43.735 Thread 'MainThread': missing ScriptRunContext! This warning can be ignored when running in bare mode.\n"
     ]
    },
    {
     "data": {
      "text/plain": [
       "DeltaGenerator()"
      ]
     },
     "execution_count": 7,
     "metadata": {},
     "output_type": "execute_result"
    }
   ],
   "source": [
    "# Revenue Analysis\n",
    "st.subheader(\"💰 Revenue Insights\")\n",
    "total_revenue = df['Price'].sum()\n",
    "st.metric(\"Total Revenue\", f\"${total_revenue:,.2f}\")"
   ]
  },
  {
   "cell_type": "code",
   "execution_count": 8,
   "id": "b5bd3f60-49d2-416a-8d30-1e8eeafeb172",
   "metadata": {},
   "outputs": [
    {
     "name": "stderr",
     "output_type": "stream",
     "text": [
      "2025-03-27 01:38:44.367 Thread 'MainThread': missing ScriptRunContext! This warning can be ignored when running in bare mode.\n",
      "2025-03-27 01:38:44.375 Thread 'MainThread': missing ScriptRunContext! This warning can be ignored when running in bare mode.\n",
      "2025-03-27 01:38:44.400 Thread 'MainThread': missing ScriptRunContext! This warning can be ignored when running in bare mode.\n",
      "2025-03-27 01:38:44.408 Thread 'MainThread': missing ScriptRunContext! This warning can be ignored when running in bare mode.\n"
     ]
    },
    {
     "data": {
      "text/plain": [
       "DeltaGenerator()"
      ]
     },
     "execution_count": 8,
     "metadata": {},
     "output_type": "execute_result"
    }
   ],
   "source": [
    "# Top 10 Customers by Spending\n",
    "st.subheader(\"🏅 Top 10 Customers by Spending\")\n",
    "top_customers = df.groupby(\"Customer ID\")['Price'].sum().reset_index().nlargest(10, 'Price')\n",
    "st.dataframe(top_customers)"
   ]
  },
  {
   "cell_type": "code",
   "execution_count": 9,
   "id": "29f5c49b-34a0-42ae-b478-a94f38da2df6",
   "metadata": {},
   "outputs": [
    {
     "name": "stderr",
     "output_type": "stream",
     "text": [
      "2025-03-27 01:38:44.965 Thread 'MainThread': missing ScriptRunContext! This warning can be ignored when running in bare mode.\n",
      "2025-03-27 01:38:44.973 Thread 'MainThread': missing ScriptRunContext! This warning can be ignored when running in bare mode.\n",
      "2025-03-27 01:38:45.085 Thread 'MainThread': missing ScriptRunContext! This warning can be ignored when running in bare mode.\n",
      "2025-03-27 01:38:45.085 Thread 'MainThread': missing ScriptRunContext! This warning can be ignored when running in bare mode.\n",
      "2025-03-27 01:38:45.085 Thread 'MainThread': missing ScriptRunContext! This warning can be ignored when running in bare mode.\n",
      "2025-03-27 01:38:45.093 Thread 'MainThread': missing ScriptRunContext! This warning can be ignored when running in bare mode.\n"
     ]
    },
    {
     "data": {
      "text/plain": [
       "DeltaGenerator()"
      ]
     },
     "execution_count": 9,
     "metadata": {},
     "output_type": "execute_result"
    }
   ],
   "source": [
    "# Facility Utilization\n",
    "st.subheader(\"🏢 Facility Utilization\")\n",
    "\n",
    "df_facility = df['Facility'].value_counts().reset_index()\n",
    "df_facility.columns = ['Facility', 'Count']  # Rename columns correctly\n",
    "\n",
    "fig3 = px.bar(df_facility,\n",
    "              x='Facility', y='Count',  # Use correct column names\n",
    "              labels={'Facility': 'Facility', 'Count': 'Bookings'},\n",
    "              title=\"Most Used Facilities\")\n",
    "st.plotly_chart(fig3, use_container_width=True)"
   ]
  },
  {
   "cell_type": "code",
   "execution_count": 10,
   "id": "f9e08505-a343-47d0-a92f-3fa845767ed7",
   "metadata": {},
   "outputs": [
    {
     "name": "stderr",
     "output_type": "stream",
     "text": [
      "2025-03-27 01:38:45.530 Thread 'MainThread': missing ScriptRunContext! This warning can be ignored when running in bare mode.\n",
      "2025-03-27 01:38:45.538 Thread 'MainThread': missing ScriptRunContext! This warning can be ignored when running in bare mode.\n",
      "2025-03-27 01:38:45.541 Thread 'MainThread': missing ScriptRunContext! This warning can be ignored when running in bare mode.\n",
      "2025-03-27 01:38:45.546 Thread 'MainThread': missing ScriptRunContext! This warning can be ignored when running in bare mode.\n",
      "2025-03-27 01:38:45.554 Thread 'MainThread': missing ScriptRunContext! This warning can be ignored when running in bare mode.\n",
      "2025-03-27 01:38:45.554 Thread 'MainThread': missing ScriptRunContext! This warning can be ignored when running in bare mode.\n",
      "2025-03-27 01:38:45.563 Thread 'MainThread': missing ScriptRunContext! This warning can be ignored when running in bare mode.\n",
      "2025-03-27 01:38:45.571 Thread 'MainThread': missing ScriptRunContext! This warning can be ignored when running in bare mode.\n",
      "2025-03-27 01:38:45.571 Thread 'MainThread': missing ScriptRunContext! This warning can be ignored when running in bare mode.\n",
      "2025-03-27 01:38:45.571 Thread 'MainThread': missing ScriptRunContext! This warning can be ignored when running in bare mode.\n",
      "2025-03-27 01:38:45.577 Thread 'MainThread': missing ScriptRunContext! This warning can be ignored when running in bare mode.\n",
      "2025-03-27 01:38:45.587 Thread 'MainThread': missing ScriptRunContext! This warning can be ignored when running in bare mode.\n",
      "2025-03-27 01:38:45.597 Thread 'MainThread': missing ScriptRunContext! This warning can be ignored when running in bare mode.\n"
     ]
    },
    {
     "data": {
      "text/plain": [
       "DeltaGenerator()"
      ]
     },
     "execution_count": 10,
     "metadata": {},
     "output_type": "execute_result"
    }
   ],
   "source": [
    "# Filter for Advanced Analysis\n",
    "st.sidebar.header(\"🔍 Filter Data\")\n",
    "selected_type = st.sidebar.multiselect(\"Select Booking Type\", df['Booking Type'].unique(), default=df['Booking Type'].unique())\n",
    "filtered_df = df[df['Booking Type'].isin(selected_type)]\n",
    "\n",
    "st.write(\"### Filtered Data Preview\")\n",
    "st.dataframe(filtered_df)"
   ]
  },
  {
   "cell_type": "code",
   "execution_count": null,
   "id": "1fac2328-4ff7-42a6-aded-a23c7bcd0777",
   "metadata": {},
   "outputs": [],
   "source": []
  },
  {
   "cell_type": "code",
   "execution_count": null,
   "id": "d83497df-232f-4c48-b99a-f4c8e2719cf4",
   "metadata": {},
   "outputs": [],
   "source": []
  },
  {
   "cell_type": "code",
   "execution_count": null,
   "id": "f59ad314-bf1a-46b3-9662-baab34e09dc0",
   "metadata": {},
   "outputs": [],
   "source": []
  }
 ],
 "metadata": {
  "kernelspec": {
   "display_name": "Python 3 (ipykernel)",
   "language": "python",
   "name": "python3"
  },
  "language_info": {
   "codemirror_mode": {
    "name": "ipython",
    "version": 3
   },
   "file_extension": ".py",
   "mimetype": "text/x-python",
   "name": "python",
   "nbconvert_exporter": "python",
   "pygments_lexer": "ipython3",
   "version": "3.10.1"
  }
 },
 "nbformat": 4,
 "nbformat_minor": 5
}
